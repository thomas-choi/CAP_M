{
 "cells": [
  {
   "cell_type": "code",
   "execution_count": 174,
   "metadata": {},
   "outputs": [],
   "source": [
    "import sys\n",
    "import datetime as dt\n",
    "from dateutil.relativedelta import *\n",
    "import time\n",
    "import numpy as np  # array operations\n",
    "import scipy.stats as scs\n",
    "import scipy.optimize as sco\n",
    "import scipy.interpolate as sci\n",
    "import pandas as pd \n",
    "import calendar\n",
    "import concurrent.futures\n",
    "import matplotlib as mpl\n",
    "import matplotlib.pyplot as plt  # standard plotting library\n",
    "from pylab import plt\n",
    "plt.style.use('ggplot')\n",
    "# put all plots in the notebook itself\n",
    "\"\"\"\n",
    "  Local  Class\n",
    "\"\"\"\n",
    "import CAPM"
   ]
  },
  {
   "cell_type": "code",
   "execution_count": 175,
   "metadata": {
    "collapsed": true
   },
   "outputs": [],
   "source": [
    "def my_Read_csv(stocklist) :\n",
    "    global  DataPath\n",
    "    #  read csv from yahoo \n",
    "    data = pd.DataFrame()\n",
    "    for sym in stocklist:\n",
    "        data[sym] = pd.read_csv(DataPath+\"/\"+sym+\".csv\", index_col=0)['Adj Close']\n",
    "        if data[sym].dtype !=  float :\n",
    "            data = data[data[sym] != 'null']\n",
    "    data = data.astype(float)\n",
    "    return data"
   ]
  },
  {
   "cell_type": "code",
   "execution_count": 176,
   "metadata": {
    "collapsed": true
   },
   "outputs": [],
   "source": [
    "\"\"\"\n",
    "Global variables\n",
    "\"\"\"\n",
    "DataPath = \"Data\"  "
   ]
  },
  {
   "cell_type": "code",
   "execution_count": 177,
   "metadata": {
    "collapsed": true
   },
   "outputs": [],
   "source": [
    "def Import_Data():\n",
    "    HSI = ['0027.HK','0700.HK','0005.HK','0939.HK','1299.HK','0941.HK','1398.HK','3988.HK','0001.HK','2318.HK','0388.HK',\n",
    "           '0386.HK','0002.HK','0883.HK','0016.HK','0823.HK','2388.HK','0003.HK','0011.HK','0857.HK','2628.HK',\n",
    "                 '0006.HK','0688.HK','1928.HK','0004.HK','0267.HK','0175.HK','0762.HK','0066.HK','1088.HK','1109.HK','2018.HK',\n",
    "                 '0012.HK','0017.HK','3328.HK','0023.HK','1038.HK','2319.HK','0083.HK','0101.HK','1044.HK','0019.HK',\n",
    "                 '0992.HK','0151.HK','0836.HK','0144.HK','0135.HK','0293.HK','3968.HK','1113.HK','0322.HK']\n",
    "\n",
    "    stocklist = HSI\n",
    "    data = my_Read_csv(stocklist)\n",
    "    return data\n"
   ]
  },
  {
   "cell_type": "code",
   "execution_count": 178,
   "metadata": {
    "collapsed": true
   },
   "outputs": [],
   "source": [
    "def Rebalance(data):\n",
    "    global DrawChart\n",
    "    \n",
    "    aCapm = CAPM.CAPM(data)\n",
    "    prets, pvols = aCapm.random_walk()\n",
    "    Sflag, msrstat, msrpw = aCapm.Max_Sharpe()\n",
    "    Mflag, mvstat, mvpw = aCapm.Min_Varian()\n",
    "    retH = msrstat[0] * 1.1\n",
    "    retL = mvstat[0] * 0.7\n",
    "    trets, tvols = aCapm.EF_Frontier(retH, retL)\n",
    "    SHRW = pd.DataFrame(index=data.columns)\n",
    "    SHRW['weight'] = msrpw.round(3)\n",
    "    MVW = pd.DataFrame(index=data.columns)\n",
    "    MVW['weight'] = mvpw.round(3)\n",
    "        \n",
    "    plt.figure(figsize=(10, 6))\n",
    "    plt.scatter(pvols, prets,\n",
    "                    c=prets / pvols, marker='.')\n",
    "                    # random portfolio composition\n",
    "    plt.scatter(tvols, trets,\n",
    "                    c=trets / tvols, \n",
    "                    marker='X')\n",
    "                    # efficient frontier\n",
    "    plt.plot(msrstat[1], msrstat[0],\n",
    "                'r*', markersize=15.0)\n",
    "                # portfolio with highest Sharpe ratio\n",
    "    plt.plot(mvstat[1], mvstat[0],\n",
    "                'y*', markersize=15.0)\n",
    "                # minimum variance portfolio\n",
    "    plt.grid(True)\n",
    "    plt.xlabel('expected volatility')\n",
    "    plt.ylabel('expected return')\n",
    "    plt.title('Minimum risk portfolios for given return level (crosses) '+sdt+' - '+edt)\n",
    "    plt.colorbar(label='Sharpe ratio')\n",
    "    \n",
    "    return SHRW, MVW"
   ]
  },
  {
   "cell_type": "code",
   "execution_count": 179,
   "metadata": {},
   "outputs": [],
   "source": [
    "def print_port_weighting(title, port, weights) :\n",
    "    print('{} :'.format(title))\n",
    "    for sym, w in zip(port, weights) :\n",
    "        if (w > 0.0):\n",
    "            print('{} : {}'.format(sym, w))"
   ]
  },
  {
   "cell_type": "code",
   "execution_count": 180,
   "metadata": {},
   "outputs": [
    {
     "name": "stdout",
     "output_type": "stream",
     "text": [
      " Extract Data from 2016-11-06 to 2017-11-06\n",
      " Actual Data from 2016-11-07 to 2017-11-06.\n"
     ]
    }
   ],
   "source": [
    "endt = dt.date.today()\n",
    "stdt = endt - relativedelta(years=1)\n",
    "sdt = stdt.__str__()\n",
    "edt = endt.__str__()\n",
    "print(\" Extract Data from {} to {}\".format(sdt, edt ))\n",
    "bigdata = Import_Data()\n",
    "d1 = bigdata[sdt:edt]\n",
    "ssdt = d1.index[0]\n",
    "eedt = d1.index[-1]\n",
    "print(\" Actual Data from {} to {}.\".format(ssdt, eedt))"
   ]
  },
  {
   "cell_type": "code",
   "execution_count": 181,
   "metadata": {},
   "outputs": [
    {
     "name": "stdout",
     "output_type": "stream",
     "text": [
      "  Max_Sharpe.noa = 51\n",
      "  max func sharpe=\n",
      "     fun: -4.058433784353571\n",
      "     jac: array([  1.73711777e-03,   9.75131989e-04,   1.00886703e-01,\n",
      "         1.86382222e+00,   9.13933456e-01,   2.53486186e+00,\n",
      "         1.36101294e+00,   2.38563848e+00,   1.45654809e+00,\n",
      "        -1.23721361e-03,   2.71148354e+00,   2.57558626e+00,\n",
      "         1.04266822e+00,   5.24529338e-01,   6.09030247e-01,\n",
      "         4.76229548e-01,   4.00583804e-01,   7.41188526e-01,\n",
      "         6.05583191e-05,   1.99456149e+00,   2.38219255e+00,\n",
      "         1.92828906e+00,   2.99057001e+00,   2.03988796e+00,\n",
      "         9.30924356e-01,   2.73654431e+00,   3.39186192e-03,\n",
      "         1.10318148e+00,   8.27954352e-01,   3.14118528e+00,\n",
      "         2.74009877e+00,   1.16086006e-03,  -1.37323141e-03,\n",
      "         3.02799106e-01,   3.19329649e+00,   1.74137652e+00,\n",
      "         7.35172868e-01,   3.84088576e-01,   1.78387880e+00,\n",
      "         2.52874595e+00,  -2.10046768e-03,   2.17156708e+00,\n",
      "         2.36943656e+00,  -2.03394890e-03,   1.14067012e+00,\n",
      "         1.29037809e+00,   3.29571962e-03,  -3.30746174e-04,\n",
      "         5.59692025e-01,   7.31598914e-01,  -1.51687860e-03])\n",
      " message: 'Optimization terminated successfully.'\n",
      "    nfev: 917\n",
      "     nit: 17\n",
      "    njev: 17\n",
      "  status: 0\n",
      " success: True\n",
      "       x: array([  3.87895046e-02,   1.51319954e-01,   4.15004665e-15,\n",
      "         3.03047362e-15,   1.58273058e-15,   8.18099804e-15,\n",
      "         5.54448825e-16,   7.27032114e-15,   9.99030574e-16,\n",
      "         1.31661545e-01,   1.14105761e-14,   8.04018171e-15,\n",
      "         1.07101319e-15,   2.66132072e-15,   2.85596999e-15,\n",
      "         2.70719691e-15,   3.08440557e-15,   2.44596925e-15,\n",
      "         3.58787985e-01,   3.26516745e-15,   9.97516700e-15,\n",
      "         2.01379745e-15,   1.30396843e-14,   5.95323763e-15,\n",
      "         1.45859154e-15,   9.75599969e-15,   3.77689868e-02,\n",
      "         5.47506328e-16,   2.08377514e-15,   1.50990540e-14,\n",
      "         1.03679752e-14,   5.36563874e-02,   4.67065566e-02,\n",
      "         3.41458205e-15,   1.45473618e-14,   1.63190042e-15,\n",
      "         2.57729440e-15,   2.65351733e-15,   2.33935303e-15,\n",
      "         9.22969988e-15,   2.32751771e-02,   6.33558154e-15,\n",
      "         6.57297058e-15,   4.65682350e-03,   1.31597567e-15,\n",
      "         7.64145569e-16,   5.32203437e-04,   7.40051004e-02,\n",
      "         1.67215331e-15,   2.33151228e-15,   7.88397762e-02])\n",
      "\n",
      "  min func variance=\n",
      "     fun: 0.005135347771061942\n",
      "     jac: array([ 0.01362258,  0.01447393,  0.01015881,  0.01339914,  0.01010292,\n",
      "        0.01037066,  0.01521392,  0.01287227,  0.01031502,  0.0136442 ,\n",
      "        0.01146901,  0.01378596,  0.0102879 ,  0.01029967,  0.01186957,\n",
      "        0.01169872,  0.01233569,  0.01018993,  0.01031454,  0.01026649,\n",
      "        0.01777426,  0.01156533,  0.01255109,  0.01063179,  0.01405698,\n",
      "        0.01197883,  0.02147685,  0.01576898,  0.01016834,  0.01637512,\n",
      "        0.01702696,  0.00988254,  0.01087637,  0.013799  ,  0.01307292,\n",
      "        0.01174137,  0.01022912,  0.01301857,  0.01575799,  0.01594022,\n",
      "        0.01106285,  0.01042063,  0.01117719,  0.01139443,  0.01308183,\n",
      "        0.01285898,  0.01056004,  0.01040509,  0.01470272,  0.01343694,\n",
      "        0.01001797])\n",
      " message: 'Optimization terminated successfully.'\n",
      "    nfev: 1114\n",
      "     nit: 21\n",
      "    njev: 21\n",
      "  status: 0\n",
      " success: True\n",
      "       x: array([  0.00000000e+00,   0.00000000e+00,   6.30182548e-02,\n",
      "         0.00000000e+00,   3.09221814e-03,   8.67150346e-02,\n",
      "         0.00000000e+00,   6.42465411e-20,   8.25076551e-02,\n",
      "         4.76356245e-18,   2.38877190e-18,   0.00000000e+00,\n",
      "         1.24745676e-01,   4.82096691e-02,   5.86260983e-18,\n",
      "         5.80975156e-20,   2.68190563e-19,   1.58392637e-01,\n",
      "         9.11071782e-02,   1.21002620e-02,   0.00000000e+00,\n",
      "         0.00000000e+00,   2.64023266e-18,   0.00000000e+00,\n",
      "         1.84615243e-18,   0.00000000e+00,   1.68669948e-18,\n",
      "         7.01484545e-18,   1.73164086e-02,   3.95900778e-19,\n",
      "         0.00000000e+00,   2.14738637e-03,   3.40277596e-19,\n",
      "         1.79403947e-18,   0.00000000e+00,   4.95766588e-21,\n",
      "         1.18013171e-01,   0.00000000e+00,   1.05547606e-18,\n",
      "         1.53894535e-18,   1.56901060e-18,   5.89125461e-02,\n",
      "         2.60212775e-18,   2.03899142e-18,   0.00000000e+00,\n",
      "         0.00000000e+00,   6.02497151e-03,   7.79894860e-02,\n",
      "         2.04980854e-18,   2.94984983e-18,   4.97074458e-02])\n",
      "\n"
     ]
    }
   ],
   "source": [
    "SRw, MVw = Rebalance(d1)"
   ]
  },
  {
   "cell_type": "code",
   "execution_count": 187,
   "metadata": {},
   "outputs": [
    {
     "name": "stdout",
     "output_type": "stream",
     "text": [
      "  all SRw          weight\n",
      "0011.HK   0.446\n",
      "0700.HK   0.233\n",
      "2318.HK   0.232\n",
      "0322.HK   0.089\n"
     ]
    }
   ],
   "source": [
    "tmp = SRw.sort_values(by=['weight'], ascending=False)\n",
    "second = tmp.head(4)\n",
    "print('  all second {}'.format(second))"
   ]
  },
  {
   "cell_type": "code",
   "execution_count": 188,
   "metadata": {},
   "outputs": [
    {
     "name": "stdout",
     "output_type": "stream",
     "text": [
      "<class 'pandas.core.frame.DataFrame'>\n",
      "Index: 247 entries, 2016-11-07 to 2017-11-06\n",
      "Data columns (total 4 columns):\n",
      "0011.HK    247 non-null float64\n",
      "0700.HK    247 non-null float64\n",
      "2318.HK    247 non-null float64\n",
      "0322.HK    247 non-null float64\n",
      "dtypes: float64(4)\n",
      "memory usage: 8.7+ KB\n",
      " D2 Actual Data from 2016-11-07 to 2017-11-06.\n"
     ]
    }
   ],
   "source": [
    "d2 = pd.DataFrame()\n",
    "for col in second.index:\n",
    "    d2[col] = d1[col]\n",
    "d2.info()\n",
    "ssdt = d2.index[0]\n",
    "eedt = d2.index[-1]\n",
    "print(\" D2 Actual Data from {} to {}.\".format(ssdt, eedt))"
   ]
  },
  {
   "cell_type": "code",
   "execution_count": 189,
   "metadata": {},
   "outputs": [
    {
     "data": {
      "text/html": [
       "<div>\n",
       "<style>\n",
       "    .dataframe thead tr:only-child th {\n",
       "        text-align: right;\n",
       "    }\n",
       "\n",
       "    .dataframe thead th {\n",
       "        text-align: left;\n",
       "    }\n",
       "\n",
       "    .dataframe tbody tr th {\n",
       "        vertical-align: top;\n",
       "    }\n",
       "</style>\n",
       "<table border=\"1\" class=\"dataframe\">\n",
       "  <thead>\n",
       "    <tr style=\"text-align: right;\">\n",
       "      <th></th>\n",
       "      <th>0011.HK</th>\n",
       "      <th>0700.HK</th>\n",
       "      <th>2318.HK</th>\n",
       "      <th>0322.HK</th>\n",
       "    </tr>\n",
       "    <tr>\n",
       "      <th>Date</th>\n",
       "      <th></th>\n",
       "      <th></th>\n",
       "      <th></th>\n",
       "      <th></th>\n",
       "    </tr>\n",
       "  </thead>\n",
       "  <tbody>\n",
       "    <tr>\n",
       "      <th>2016-11-07</th>\n",
       "      <td>134.688370</td>\n",
       "      <td>203.728165</td>\n",
       "      <td>40.194965</td>\n",
       "      <td>8.692739</td>\n",
       "    </tr>\n",
       "    <tr>\n",
       "      <th>2016-11-08</th>\n",
       "      <td>134.784668</td>\n",
       "      <td>205.124939</td>\n",
       "      <td>40.537678</td>\n",
       "      <td>8.751941</td>\n",
       "    </tr>\n",
       "    <tr>\n",
       "      <th>2016-11-09</th>\n",
       "      <td>133.436813</td>\n",
       "      <td>201.932327</td>\n",
       "      <td>39.313713</td>\n",
       "      <td>8.673005</td>\n",
       "    </tr>\n",
       "    <tr>\n",
       "      <th>2016-11-10</th>\n",
       "      <td>136.228775</td>\n",
       "      <td>207.718918</td>\n",
       "      <td>40.097050</td>\n",
       "      <td>8.830875</td>\n",
       "    </tr>\n",
       "    <tr>\n",
       "      <th>2016-11-11</th>\n",
       "      <td>137.480377</td>\n",
       "      <td>199.537872</td>\n",
       "      <td>39.803299</td>\n",
       "      <td>8.830875</td>\n",
       "    </tr>\n",
       "  </tbody>\n",
       "</table>\n",
       "</div>"
      ],
      "text/plain": [
       "               0011.HK     0700.HK    2318.HK   0322.HK\n",
       "Date                                                   \n",
       "2016-11-07  134.688370  203.728165  40.194965  8.692739\n",
       "2016-11-08  134.784668  205.124939  40.537678  8.751941\n",
       "2016-11-09  133.436813  201.932327  39.313713  8.673005\n",
       "2016-11-10  136.228775  207.718918  40.097050  8.830875\n",
       "2016-11-11  137.480377  199.537872  39.803299  8.830875"
      ]
     },
     "execution_count": 189,
     "metadata": {},
     "output_type": "execute_result"
    }
   ],
   "source": [
    "d2.head()"
   ]
  },
  {
   "cell_type": "code",
   "execution_count": 190,
   "metadata": {},
   "outputs": [
    {
     "data": {
      "text/html": [
       "<div>\n",
       "<style>\n",
       "    .dataframe thead tr:only-child th {\n",
       "        text-align: right;\n",
       "    }\n",
       "\n",
       "    .dataframe thead th {\n",
       "        text-align: left;\n",
       "    }\n",
       "\n",
       "    .dataframe tbody tr th {\n",
       "        vertical-align: top;\n",
       "    }\n",
       "</style>\n",
       "<table border=\"1\" class=\"dataframe\">\n",
       "  <thead>\n",
       "    <tr style=\"text-align: right;\">\n",
       "      <th></th>\n",
       "      <th>0011.HK</th>\n",
       "      <th>0700.HK</th>\n",
       "      <th>2318.HK</th>\n",
       "      <th>0322.HK</th>\n",
       "    </tr>\n",
       "    <tr>\n",
       "      <th>Date</th>\n",
       "      <th></th>\n",
       "      <th></th>\n",
       "      <th></th>\n",
       "      <th></th>\n",
       "    </tr>\n",
       "  </thead>\n",
       "  <tbody>\n",
       "    <tr>\n",
       "      <th>2017-10-31</th>\n",
       "      <td>184.699997</td>\n",
       "      <td>349.799988</td>\n",
       "      <td>68.500000</td>\n",
       "      <td>12.30</td>\n",
       "    </tr>\n",
       "    <tr>\n",
       "      <th>2017-11-01</th>\n",
       "      <td>185.600006</td>\n",
       "      <td>360.000000</td>\n",
       "      <td>70.300003</td>\n",
       "      <td>12.62</td>\n",
       "    </tr>\n",
       "    <tr>\n",
       "      <th>2017-11-02</th>\n",
       "      <td>184.300003</td>\n",
       "      <td>361.799988</td>\n",
       "      <td>70.050003</td>\n",
       "      <td>12.70</td>\n",
       "    </tr>\n",
       "    <tr>\n",
       "      <th>2017-11-03</th>\n",
       "      <td>184.000000</td>\n",
       "      <td>368.000000</td>\n",
       "      <td>70.699997</td>\n",
       "      <td>12.52</td>\n",
       "    </tr>\n",
       "    <tr>\n",
       "      <th>2017-11-06</th>\n",
       "      <td>182.699997</td>\n",
       "      <td>377.000000</td>\n",
       "      <td>70.800003</td>\n",
       "      <td>12.36</td>\n",
       "    </tr>\n",
       "  </tbody>\n",
       "</table>\n",
       "</div>"
      ],
      "text/plain": [
       "               0011.HK     0700.HK    2318.HK  0322.HK\n",
       "Date                                                  \n",
       "2017-10-31  184.699997  349.799988  68.500000    12.30\n",
       "2017-11-01  185.600006  360.000000  70.300003    12.62\n",
       "2017-11-02  184.300003  361.799988  70.050003    12.70\n",
       "2017-11-03  184.000000  368.000000  70.699997    12.52\n",
       "2017-11-06  182.699997  377.000000  70.800003    12.36"
      ]
     },
     "execution_count": 190,
     "metadata": {},
     "output_type": "execute_result"
    }
   ],
   "source": [
    "d2.tail()"
   ]
  },
  {
   "cell_type": "code",
   "execution_count": 191,
   "metadata": {},
   "outputs": [
    {
     "name": "stdout",
     "output_type": "stream",
     "text": [
      "  Max_Sharpe.noa = 4\n",
      "  max func sharpe=\n",
      "     fun: -3.821240527613922\n",
      "     jac: array([-0.00030109,  0.00037274,  0.00010222,  0.0002695 ])\n",
      " message: 'Optimization terminated successfully.'\n",
      "    nfev: 51\n",
      "     nit: 8\n",
      "    njev: 8\n",
      "  status: 0\n",
      " success: True\n",
      "       x: array([ 0.44645306,  0.23305567,  0.2318035 ,  0.08868777])\n",
      "\n",
      "  min func variance=\n",
      "     fun: 0.011693894589345838\n",
      "     jac: array([ 0.02335035,  0.0227793 ,  0.02390116,  0.02336255])\n",
      " message: 'Optimization terminated successfully.'\n",
      "    nfev: 49\n",
      "     nit: 8\n",
      "    njev: 8\n",
      "  status: 0\n",
      " success: True\n",
      "       x: array([ 0.67209163,  0.06856562,  0.13760425,  0.1217385 ])\n",
      "\n",
      "--> TVOLS dupl value=\n"
     ]
    },
    {
     "data": {
      "text/html": [
       "<div>\n",
       "<style>\n",
       "    .dataframe thead tr:only-child th {\n",
       "        text-align: right;\n",
       "    }\n",
       "\n",
       "    .dataframe thead th {\n",
       "        text-align: left;\n",
       "    }\n",
       "\n",
       "    .dataframe tbody tr th {\n",
       "        vertical-align: top;\n",
       "    }\n",
       "</style>\n",
       "<table border=\"1\" class=\"dataframe\">\n",
       "  <thead>\n",
       "    <tr style=\"text-align: right;\">\n",
       "      <th></th>\n",
       "      <th>weight</th>\n",
       "    </tr>\n",
       "  </thead>\n",
       "  <tbody>\n",
       "    <tr>\n",
       "      <th>0011.HK</th>\n",
       "      <td>0.446</td>\n",
       "    </tr>\n",
       "    <tr>\n",
       "      <th>0700.HK</th>\n",
       "      <td>0.233</td>\n",
       "    </tr>\n",
       "    <tr>\n",
       "      <th>2318.HK</th>\n",
       "      <td>0.232</td>\n",
       "    </tr>\n",
       "    <tr>\n",
       "      <th>0322.HK</th>\n",
       "      <td>0.089</td>\n",
       "    </tr>\n",
       "  </tbody>\n",
       "</table>\n",
       "</div>"
      ],
      "text/plain": [
       "         weight\n",
       "0011.HK   0.446\n",
       "0700.HK   0.233\n",
       "2318.HK   0.232\n",
       "0322.HK   0.089"
      ]
     },
     "execution_count": 191,
     "metadata": {},
     "output_type": "execute_result"
    }
   ],
   "source": [
    "SRw, MVw = Rebalance(d2)\n",
    "SRw"
   ]
  }
 ],
 "metadata": {
  "kernelspec": {
   "display_name": "Python 3",
   "language": "python",
   "name": "python3"
  },
  "language_info": {
   "codemirror_mode": {
    "name": "ipython",
    "version": 3
   },
   "file_extension": ".py",
   "mimetype": "text/x-python",
   "name": "python",
   "nbconvert_exporter": "python",
   "pygments_lexer": "ipython3",
   "version": "3.6.1"
  }
 },
 "nbformat": 4,
 "nbformat_minor": 2
}
